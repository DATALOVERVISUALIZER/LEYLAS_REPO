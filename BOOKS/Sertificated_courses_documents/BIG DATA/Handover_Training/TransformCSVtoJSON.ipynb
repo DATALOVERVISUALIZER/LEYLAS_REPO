{
 "cells": [
  {
   "cell_type": "markdown",
   "metadata": {},
   "source": [
    "# TransformCSVtoJSON\n",
    "This notebook from pattern from some CSV file to JSON for visualization"
   ]
  },
  {
   "cell_type": "code",
   "execution_count": null,
   "metadata": {
    "collapsed": false
   },
   "outputs": [],
   "source": [
    "%matplotlib inline\n",
    "from operator import add\n",
    "from datetime import datetime, date\n",
    "import calendar\n",
    "import time, logging\n",
    "import pandas as pd\n",
    "import numpy as np\n",
    "import matplotlib.pyplot as plt\n",
    "import matplotlib.ticker as ticker\n",
    "import matplotlib.patches as patches\n",
    "import matplotlib.path as path\n",
    "import json\n",
    "import operator\n"
   ]
  },
  {
   "cell_type": "code",
   "execution_count": null,
   "metadata": {
    "collapsed": false
   },
   "outputs": [],
   "source": [
    "sc.stop() # We don't use spark here"
   ]
  },
  {
   "cell_type": "markdown",
   "metadata": {},
   "source": [
    "# Functions"
   ]
  },
  {
   "cell_type": "code",
   "execution_count": null,
   "metadata": {
    "collapsed": false
   },
   "outputs": [],
   "source": [
    "#Loading Event Explanation for Converting Letter, for displaying \n",
    "cols=[\"Conc\", \"Letter\", \"MDLevent\", \"Refined Names\"]\n",
    "EventsDef=pd.read_csv('../EventDefExplanation.csv',delimiter=';',skiprows=1,names=cols)\n",
    "\n",
    "print len(EventsDef)\n",
    "\n",
    "conversionDict = {}\n",
    "for i in range(len(EventsDef)):\n",
    "    conversionDict[EventsDef[\"Conc\"][i]]=EventsDef[\"Refined Names\"][i]\n",
    "\n",
    "#Add Churning Event\n",
    "conversionDict[\"ChurningEvent\"] = \"ChurningEvent\"\n",
    "print conversionDict[\"ATM_Login\"]"
   ]
  },
  {
   "cell_type": "markdown",
   "metadata": {},
   "source": [
    "# Load"
   ]
  },
  {
   "cell_type": "markdown",
   "metadata": {},
   "source": [
    "Here we can import from 2 differents "
   ]
  },
  {
   "cell_type": "code",
   "execution_count": null,
   "metadata": {
    "collapsed": true
   },
   "outputs": [],
   "source": [
    "inputFile = \"patternsMinimumSupportAllSegment0.005.csv\"\n",
    "inputFolder = \"../results/ngram/\"\n",
    "csvPd = pd.read_csv(inputFolder + inputFile)\n",
    "Segment = \"\"\n",
    "valueKey = \"nbrChurning\"\n",
    "onlyEndWithCE = True"
   ]
  },
  {
   "cell_type": "code",
   "execution_count": null,
   "metadata": {
    "collapsed": true
   },
   "outputs": [],
   "source": [
    "inputFile = \"AllCluster_Suggested_Patterns.xlsx\"\n",
    "inputFolder = \"../selected/\"\n",
    "csvPd = pd.read_excel(inputFolder + inputFile)\n",
    "Segment = \"\" # Cluster2 Cluster4 Cluster6 Cluster10 Cluster12\n",
    "valueKey = \"1_sum(custCount)0.0\"\n",
    "onlyEndWithCE = False"
   ]
  },
  {
   "cell_type": "code",
   "execution_count": null,
   "metadata": {
    "collapsed": true
   },
   "outputs": [],
   "source": [
    "if not Segment == \"\":\n",
    "    csvPd = csvPd[(csvPd.Segment == Segment) ]"
   ]
  },
  {
   "cell_type": "code",
   "execution_count": null,
   "metadata": {
    "collapsed": false
   },
   "outputs": [],
   "source": [
    "csvPd.iterrows().next()[1]"
   ]
  },
  {
   "cell_type": "code",
   "execution_count": null,
   "metadata": {
    "collapsed": false
   },
   "outputs": [],
   "source": [
    "linkDict = {}\n",
    "maxDeep = 7\n",
    "\n",
    "for row in csvPd.iterrows():\n",
    "    value = row[1][valueKey]\n",
    "    sequence = row[1]['pattern'][2:][:-2].split(\"', '\")\n",
    "    \n",
    "    # Limit patterns lenght\n",
    "    if len(sequence) > maxDeep:\n",
    "        if onlyEndWithCE:\n",
    "            sequence = sequence[len(sequence)-maxDeep:]\n",
    "        else:\n",
    "            sequence = sequence[:-(len(sequence)-maxDeep)]\n",
    "    \n",
    "    # Only get churning events:\n",
    "    if onlyEndWithCE:\n",
    "        if not sequence[-1] == \"ChurningEvent\":\n",
    "            continue\n",
    "        sequence = list(reversed(sequence))\n",
    "    \n",
    "    # Loop init\n",
    "    event = sequence[0] # last event / first event\n",
    "    d = 0\n",
    "    #deep = len(sequence) - d\n",
    "    if onlyEndWithCE:\n",
    "        eventDeep = event + ' ' + str(d)\n",
    "    else:\n",
    "        eventDeep = event + ' ' + str( - d + maxDeep)\n",
    "    source = eventDeep\n",
    "    \n",
    "    for event in sequence[1:]:\n",
    "        d = d + 1\n",
    "        #deep = len(sequence) - d\n",
    "        if onlyEndWithCE:\n",
    "            eventDeep = event + ' ' + str(d)\n",
    "        else:\n",
    "            eventDeep = event + ' ' + str( - d + maxDeep)\n",
    "        target = eventDeep#eventDict[eventDeep]\n",
    "        \n",
    "        if not source == target: # D3 doesn't allow\n",
    "            key = (source, target)\n",
    "            if key not in linkDict:\n",
    "                linkDict[key] = value\n",
    "            else:\n",
    "                linkDict[key] = linkDict[key] + value\n",
    "\n",
    "        source = target\n",
    "        "
   ]
  },
  {
   "cell_type": "code",
   "execution_count": null,
   "metadata": {
    "collapsed": true
   },
   "outputs": [],
   "source": []
  },
  {
   "cell_type": "code",
   "execution_count": null,
   "metadata": {
    "collapsed": false
   },
   "outputs": [],
   "source": [
    "# Max value\n",
    "maxValue = 0\n",
    "for source, target in linkDict:\n",
    "    value = linkDict[(source, target)]\n",
    "    if value > maxValue:\n",
    "        maxValue = value\n",
    "        \n",
    "print maxValue\n",
    "\n",
    "minValue = maxValue * 0.005 # 1000  # Take 1% (or 0.5% of the stuff)\n",
    "print minValue"
   ]
  },
  {
   "cell_type": "code",
   "execution_count": null,
   "metadata": {
    "collapsed": false
   },
   "outputs": [],
   "source": [
    "# Max/min value, based on the maximun number of links\n",
    "maxLink = maxDeep * 20\n",
    "valueList = linkDict.values()\n",
    "valueList.sort(reverse=True)\n",
    "maxLink = min(maxLink, len(valueList)-1)\n",
    "minValue = valueList[maxLink]"
   ]
  },
  {
   "cell_type": "code",
   "execution_count": null,
   "metadata": {
    "collapsed": false
   },
   "outputs": [],
   "source": [
    "print \"Number linkDict: \" + str(len(linkDict))\n",
    "\n",
    "links = []\n",
    "eventDict = {}\n",
    "for source, target in linkDict:\n",
    "    value = linkDict[(source, target)]\n",
    "    if value < minValue:\n",
    "        continue\n",
    "        \n",
    "    if source not in eventDict:\n",
    "        eventDict[source] = len(eventDict)\n",
    "    if target not in eventDict:\n",
    "        eventDict[target] = len(eventDict)\n",
    "    \n",
    "    #Source and Target switched for chronology:\n",
    "    if onlyEndWithCE:\n",
    "        links.append({'source': eventDict[target], 'target': eventDict[source], 'value': value})\n",
    "    else:\n",
    "        links.append({'source': eventDict[source], 'target': eventDict[target], 'value': value})\n",
    "    \n",
    "print \"Number links: \" + str(len(links))"
   ]
  },
  {
   "cell_type": "code",
   "execution_count": null,
   "metadata": {
    "collapsed": false
   },
   "outputs": [],
   "source": [
    "print len(eventDict)"
   ]
  },
  {
   "cell_type": "code",
   "execution_count": null,
   "metadata": {
    "collapsed": false
   },
   "outputs": [],
   "source": [
    "eventDictSorted = sorted(eventDict.items(), key=operator.itemgetter(1))"
   ]
  },
  {
   "cell_type": "code",
   "execution_count": null,
   "metadata": {
    "collapsed": false
   },
   "outputs": [],
   "source": [
    "nodes = []\n",
    "for event, i in eventDictSorted:\n",
    "    depth = int(event[-1:]) # Should 1 digit be careful. Used to x position of the events, for chronology\n",
    "    event = event[:-2] # Remove the depth number\n",
    "    event = conversionDict[event]\n",
    "    nodes.append({'name': event, 'id': str(i), 'depth': depth})"
   ]
  },
  {
   "cell_type": "code",
   "execution_count": null,
   "metadata": {
    "collapsed": false
   },
   "outputs": [],
   "source": [
    "nodes"
   ]
  },
  {
   "cell_type": "markdown",
   "metadata": {},
   "source": [
    "# Saving"
   ]
  },
  {
   "cell_type": "code",
   "execution_count": null,
   "metadata": {
    "collapsed": false
   },
   "outputs": [],
   "source": [
    "print \"Number of nodes: \" + str(len(nodes))\n",
    "print \"Number of links: \" + str(len(links))"
   ]
  },
  {
   "cell_type": "code",
   "execution_count": null,
   "metadata": {
    "collapsed": false
   },
   "outputs": [],
   "source": [
    "finalJson = {}\n",
    "finalJson['nodes'] = nodes\n",
    "finalJson['links'] = links\n",
    "\n",
    "outputFilePath = 'input/'+inputFile+'_'+Segment+'.json'\n",
    "with open(outputFilePath, 'w') as outfile:\n",
    "    json.dump(finalJson, outfile)\n",
    "\n",
    "print outputFilePath"
   ]
  },
  {
   "cell_type": "code",
   "execution_count": null,
   "metadata": {
    "collapsed": true
   },
   "outputs": [],
   "source": []
  }
 ],
 "metadata": {
  "git": {
   "suppress_output": true
  },
  "kernelspec": {
   "display_name": "Python 2",
   "language": "python",
   "name": "python2"
  },
  "language_info": {
   "codemirror_mode": {
    "name": "ipython",
    "version": 2
   },
   "file_extension": ".py",
   "mimetype": "text/x-python",
   "name": "python",
   "nbconvert_exporter": "python",
   "pygments_lexer": "ipython2",
   "version": "2.7.10"
  }
 },
 "nbformat": 4,
 "nbformat_minor": 0
}